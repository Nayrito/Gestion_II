{
 "cells": [
  {
   "cell_type": "markdown",
   "metadata": {},
   "source": [
    "# <center>Trabajo final Gestión II </center>\n",
    "## <center>Universidad de Antioquia </center>\n",
    "\n",
    "### Integrantes:\n",
    "- Nayro Emanuel Garzón Toro\n",
    "- Camilo Ruiz \n",
    "\n",
    "### Introducción:\n",
    "La inteligencia artificial es el campo científico de la informática que se centra en la creación de programas y mecanismos que pueden mostrar comportamientos considerados inteligentes. A partir de estos programas y técnicas buscaremos plantear una idea de negocio, analizando información extraida del comportamiento de un grupo de usuarios.\n",
    "\n",
    "En esta primera entrega exploraremos el dataset \"Mobile Phone activity \" el cual está compuesto por una semana de CDRs (Call Details Records) de la ciudad de Milan y la provincia de Trentino, suministrado por  Telecom Italia Big Data Challenge https://www.nature.com/articles/sdata201555 \n",
    "\n",
    "### Exploración del dataset:\n",
    "\n",
    "El dataset presenta datos de las actividades de:\n",
    ". SMS enviados/recibidos\n",
    ". llamadas entrantes/salientes\n",
    ". Actividad en Internet\n",
    "\n"
   ]
  },
  {
   "cell_type": "code",
   "execution_count": null,
   "metadata": {},
   "outputs": [],
   "source": []
  },
  {
   "cell_type": "code",
   "execution_count": null,
   "metadata": {},
   "outputs": [],
   "source": []
  },
  {
   "cell_type": "code",
   "execution_count": null,
   "metadata": {},
   "outputs": [],
   "source": []
  },
  {
   "cell_type": "code",
   "execution_count": null,
   "metadata": {},
   "outputs": [],
   "source": []
  }
 ],
 "metadata": {
  "kernelspec": {
   "display_name": "Python 3",
   "language": "python",
   "name": "python3"
  },
  "language_info": {
   "codemirror_mode": {
    "name": "ipython",
    "version": 3
   },
   "file_extension": ".py",
   "mimetype": "text/x-python",
   "name": "python",
   "nbconvert_exporter": "python",
   "pygments_lexer": "ipython3",
   "version": "3.6.5"
  }
 },
 "nbformat": 4,
 "nbformat_minor": 2
}
